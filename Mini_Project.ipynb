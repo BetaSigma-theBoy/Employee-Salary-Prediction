{
  "nbformat": 4,
  "nbformat_minor": 0,
  "metadata": {
    "colab": {
      "provenance": []
    },
    "kernelspec": {
      "name": "python3",
      "display_name": "Python 3"
    },
    "language_info": {
      "name": "python"
    }
  },
  "cells": [
    {
      "cell_type": "code",
      "execution_count": 1,
      "metadata": {
        "id": "gSVycjubOYiw"
      },
      "outputs": [],
      "source": [
        "# Import the libraries\n",
        "\n",
        "import pandas as pd\n",
        "import numpy as np\n",
        "from sklearn.metrics import confusion_matrix, classification_report, r2_score, accuracy_score, mean_squared_error\n",
        "from sklearn.model_selection import train_test_split\n",
        "from sklearn.linear_model import LinearRegression, LogisticRegression\n",
        "from sklearn.preprocessing import StandardScaler, LabelEncoder\n",
        "import matplotlib.pyplot as plt\n",
        "import seaborn as sns\n",
        "\n"
      ]
    },
    {
      "cell_type": "code",
      "source": [],
      "metadata": {
        "id": "GmLfG87ZUiTo"
      },
      "execution_count": null,
      "outputs": []
    },
    {
      "cell_type": "code",
      "source": [],
      "metadata": {
        "id": "z5U2N-50UXf_"
      },
      "execution_count": null,
      "outputs": []
    },
    {
      "cell_type": "code",
      "source": [
        "# Get the dataset\n",
        "Salary = pd.read_csv('EmployeeSalary.csv')\n",
        "# Print Salary Columns\n",
        "print(Salary.columns)\n",
        "\n",
        "print(Salary.head())\n",
        "print()\n",
        "print(Salary.describe())\n"
      ],
      "metadata": {
        "colab": {
          "base_uri": "https://localhost:8080/"
        },
        "id": "G20rHX2CUVDC",
        "outputId": "6dbd4736-c783-4d15-d3b2-1279a16fa404"
      },
      "execution_count": 2,
      "outputs": [
        {
          "output_type": "stream",
          "name": "stdout",
          "text": [
            "Index(['ID', 'Experience_Years', 'Age', 'Gender', 'Salary'], dtype='object')\n",
            "   ID  Experience_Years  Age  Gender  Salary\n",
            "0   1                 5   28  Female  250000\n",
            "1   2                 1   21    Male   50000\n",
            "2   3                 3   23  Female  170000\n",
            "3   4                 2   22    Male   25000\n",
            "4   5                 1   17    Male   10000\n",
            "\n",
            "              ID  Experience_Years        Age        Salary\n",
            "count  35.000000          35.00000  35.000000  3.500000e+01\n",
            "mean   18.000000           9.20000  35.485714  2.059147e+06\n",
            "std    10.246951           7.55295  14.643552  3.170124e+06\n",
            "min     1.000000           1.00000  17.000000  3.000000e+03\n",
            "25%     9.500000           2.50000  22.500000  2.250000e+04\n",
            "50%    18.000000           6.00000  29.000000  2.500000e+05\n",
            "75%    26.500000          15.00000  53.500000  3.270000e+06\n",
            "max    35.000000          27.00000  62.000000  1.000000e+07\n"
          ]
        }
      ]
    },
    {
      "cell_type": "code",
      "source": [
        "\n",
        "# Data SKLearn Preprocessing\n",
        "X_salary = Salary[['Experience_Years', 'Age']]\n",
        "y_salary = Salary['Salary']\n"
      ],
      "metadata": {
        "id": "MJFrDhofUZMo"
      },
      "execution_count": 4,
      "outputs": []
    },
    {
      "cell_type": "code",
      "source": [
        "# Feature the Scales\n",
        "scaler = StandardScaler()\n",
        "X_salary_Scaled = scaler.fit_transform(X_salary)"
      ],
      "metadata": {
        "id": "687YUQ9_UcgT"
      },
      "execution_count": 5,
      "outputs": []
    },
    {
      "cell_type": "code",
      "source": [
        "X_train_salary, X_test_salary, y_train_salary, y_test_salary = train_test_split(X_salary_Scaled, y_salary, test_size=0.3, random_state=42)"
      ],
      "metadata": {
        "id": "VPvo1ELIUjsw"
      },
      "execution_count": 6,
      "outputs": []
    },
    {
      "cell_type": "code",
      "source": [
        "lin_reg_model = LinearRegression()\n",
        "lin_reg_model.fit(X_train_salary, y_train_salary)\n",
        "y_pred_salary = lin_reg_model.predict(X_test_salary)"
      ],
      "metadata": {
        "id": "Km9jJRIfUr6k"
      },
      "execution_count": 7,
      "outputs": []
    },
    {
      "cell_type": "code",
      "source": [
        "print(f\"Linear Regression R^2 Score{r2_score(y_test_salary, y_pred_salary):.2f}\")\n",
        "print(f\"Mean Squared Error{mean_squared_error(y_test_salary, y_pred_salary):.2f}\")"
      ],
      "metadata": {
        "colab": {
          "base_uri": "https://localhost:8080/"
        },
        "id": "SGk2C13PUvfr",
        "outputId": "8d9ca2ef-4220-459a-f151-2fd8f5e8a239"
      },
      "execution_count": 12,
      "outputs": [
        {
          "output_type": "stream",
          "name": "stdout",
          "text": [
            "Linear Regression R^2 Score-0.62\n",
            "Mean Squared Error4594763730518.18\n"
          ]
        }
      ]
    },
    {
      "cell_type": "code",
      "source": [
        "plt.figure(figsize=(10,6))\n",
        "plt.scatter(y_test_salary, y_pred_salary, color='green')\n",
        "plt.xlabel('Actual Salaries')\n",
        "plt.ylabel('Predicted Salaries')\n",
        "plt.title('Actual Salaries vs Predicted Salaries')\n",
        "plt.show()\n",
        "\n"
      ],
      "metadata": {
        "colab": {
          "base_uri": "https://localhost:8080/",
          "height": 564
        },
        "id": "bpisctCjV9UD",
        "outputId": "79803bd5-4dae-4e1f-80ba-aa9a5328c1bf"
      },
      "execution_count": 14,
      "outputs": [
        {
          "output_type": "display_data",
          "data": {
            "text/plain": [
              "<Figure size 1000x600 with 1 Axes>"
            ],
            "image/png": "[encoded data removed]"
          },
          "metadata": {}
        }
      ]
    },
    {
      "cell_type": "code",
      "source": [],
      "metadata": {
        "id": "mGKS0n5pWxGJ"
      },
      "execution_count": null,
      "outputs": []
    },
    {
      "cell_type": "markdown",
      "source": [],
      "metadata": {
        "id": "yyd0PREAUspp"
      }
    }
  ]
}